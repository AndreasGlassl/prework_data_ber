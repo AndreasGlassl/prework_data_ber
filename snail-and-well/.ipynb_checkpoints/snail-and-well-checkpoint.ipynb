{
 "cells": [
  {
   "cell_type": "markdown",
   "metadata": {},
   "source": [
    "# Snail and well\n",
    "\n",
    "A snail falls at the bottom of a 125 cm well. Each day the snail rises 30 cm. But at night, while sleeping, slides 20 cm because the walls are wet. How many days does it take to escape from the well?\n",
    "\n",
    "TIP: http://puzzles.nigelcoldwell.co.uk/sixtytwo.htm"
   ]
  },
  {
   "cell_type": "markdown",
   "metadata": {},
   "source": [
    "## Solución"
   ]
  },
  {
   "cell_type": "code",
   "execution_count": 4,
   "metadata": {},
   "outputs": [
    {
     "name": "stdout",
     "output_type": "stream",
     "text": [
      "Accumulated distance so far is  30\n",
      "Accumulated distance so far is  40\n",
      "Accumulated distance so far is  50\n",
      "Accumulated distance so far is  60\n",
      "Accumulated distance so far is  70\n",
      "Accumulated distance so far is  80\n",
      "Accumulated distance so far is  90\n",
      "Accumulated distance so far is  100\n",
      "Accumulated distance so far is  110\n",
      "Accumulated distance so far is  120\n",
      "Accumulated distance so far is  130\n",
      "Days =  11\n"
     ]
    }
   ],
   "source": [
    "# Assign problem data to variables with representative names\n",
    "# well height, daily advance, night retreat, accumulated distance\n",
    "\n",
    "\n",
    "# Assign 0 to the variable that represents the solution\n",
    "\n",
    "\n",
    "# Write the code that solves the problem\n",
    "\n",
    "\n",
    "# Print the result with print('Days =', days)\n",
    "\n",
    "well_hight = 125\n",
    "daily_advance = 30\n",
    "night_retreat = -20\n",
    "accumulated_distance = 0\n",
    "days = 1\n",
    "\n",
    "while accumulated_distance <= well_hight:\n",
    "    accumulated_distance += daily_advance\n",
    "    print(\"Accumulated distance so far is \",accumulated_distance)\n",
    "    if accumulated_distance >= well_hight:\n",
    "        print(\"Days = \", days)\n",
    "        break\n",
    "    else: \n",
    "        accumulated_distance +=  night_retreat\n",
    "        days += 1\n",
    "\n",
    "        \n",
    "\n"
   ]
  },
  {
   "cell_type": "markdown",
   "metadata": {},
   "source": [
    "## Goals\n",
    "\n",
    "1. Treatment of variables\n",
    "2. Use of loop **while**\n",
    "3. Use of conditional **if-else**\n",
    "4. Print in console"
   ]
  },
  {
   "cell_type": "markdown",
   "metadata": {},
   "source": [
    "## Bonus\n",
    "The distance traveled by the snail is now defined by a list.\n",
    "```\n",
    "advance_cm = [30, 21, 33, 77, 44, 45, 23, 45, 12, 34, 55]\n",
    "```\n",
    "How long does it take to raise the well?\n",
    "\n",
    "What is its maximum displacement in one day? And its minimum?\n",
    "\n",
    "What is its average speed during the day?\n",
    "\n",
    "What is the standard deviation of its displacement during the day?"
   ]
  },
  {
   "cell_type": "code",
   "execution_count": 16,
   "metadata": {
    "scrolled": true
   },
   "outputs": [
    {
     "name": "stdout",
     "output_type": "stream",
     "text": [
      "Accumulated distance so far is  30\n",
      "Accumulated distance so far is  31\n",
      "Accumulated distance so far is  44\n",
      "Accumulated distance so far is  101\n",
      "Accumulated distance so far is  125\n",
      "Days =  5\n",
      "Average speed =  41.0\n",
      "Average progress per day =  25.0\n",
      "Minimum progress within the climb is  21\n",
      "Maximum progress within the climb is  77\n",
      "The standard deviation of the daily advance is  21.737065119284157\n"
     ]
    }
   ],
   "source": [
    "# Assign problem data to variables with representative names\n",
    "# well height, daily advance, night retreat, accumulated distance\n",
    "\n",
    "\n",
    "# Assign 0 to the variable that represents the solution\n",
    "\n",
    "\n",
    "# Write the code that solves the problem\n",
    "\n",
    "\n",
    "\n",
    "# Print the result with print('Days =', days)\n",
    "\n",
    "\n",
    "# What is its maximum displacement in a day? And its minimum?\n",
    "\n",
    "\n",
    "\n",
    "# What is its average progress?\n",
    "\n",
    "\n",
    "# What is the standard deviation of your displacement during the day?\n",
    "\n",
    "daily_advance = [30, 21, 33, 77, 44, 45, 23, 45, 12, 34, 55]\n",
    "well_hight = 125\n",
    "night_retreat = -20\n",
    "accumulated_distance = 0\n",
    "days = 0\n",
    "\n",
    "while accumulated_distance <= well_hight:\n",
    "    accumulated_distance += daily_advance[days]\n",
    "    days += 1\n",
    "    print(\"Accumulated distance so far is \",accumulated_distance)\n",
    "    if accumulated_distance >= well_hight:\n",
    "        print(\"Days = \", days)\n",
    "        break\n",
    "    else: \n",
    "        accumulated_distance +=  night_retreat\n",
    "        \n",
    "average_speed = 0\n",
    "\n",
    "for i in range(days):\n",
    "    average_speed += daily_advance[i]\n",
    "\n",
    "print(\"Average speed = \", average_speed/days)\n",
    "\n",
    "average_progress = accumulated_distance/days\n",
    "\n",
    "print(\"Average progress per day = \", average_progress)\n",
    "\n",
    "# without numpy:\n",
    "\n",
    "\n",
    "minimum = min(daily_advance[0:5])\n",
    "maximum = max(daily_advance[0:5])\n",
    "\n",
    "print(\"Minimum progress within the climb is \", minimum)\n",
    "print(\"Maximum progress within the climb is \", maximum)\n",
    "\n",
    "import statistics as st\n",
    "\n",
    "standard_deviation = st.stdev(daily_advance[0:5])\n",
    "\n",
    "print(\"The standard deviation of the daily advance is \", standard_deviation) # just looked up stdev on the internet, have not checked, if correct standard deviation\n",
    "\n",
    "\n",
    "    \n"
   ]
  },
  {
   "cell_type": "code",
   "execution_count": null,
   "metadata": {},
   "outputs": [],
   "source": []
  }
 ],
 "metadata": {
  "kernelspec": {
   "display_name": "Python 3",
   "language": "python",
   "name": "python3"
  },
  "language_info": {
   "codemirror_mode": {
    "name": "ipython",
    "version": 3
   },
   "file_extension": ".py",
   "mimetype": "text/x-python",
   "name": "python",
   "nbconvert_exporter": "python",
   "pygments_lexer": "ipython3",
   "version": "3.7.6"
  }
 },
 "nbformat": 4,
 "nbformat_minor": 2
}
