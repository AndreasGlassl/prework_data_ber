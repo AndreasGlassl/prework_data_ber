{
 "cells": [
  {
   "cell_type": "markdown",
   "metadata": {},
   "source": [
    "# Duel of sorcerers\n",
    "You are witnessing an epic battle between two powerful sorcerers: Gandalf and Saruman. Each sorcerer has 10 spells of variable power in their mind and they are going to throw them one after the other. The winner of the duel will be the one who wins more of those clashes between spells. Spells are represented as a list of 10 integers whose value equals the power of the spell.\n",
    "```\n",
    "gandalf = [10, 11, 13, 30, 22, 11, 10, 33, 22, 22]\n",
    "saruman = [23, 66, 12, 43, 12, 10, 44, 23, 12, 17]\n",
    "```\n",
    "For example:\n",
    "1. The first clash is won by Saruman: 10 against 23, wins 23\n",
    "2. The second clash wins Saruman: 11 against 66, wins 66\n",
    "3. etc.\n",
    "\n",
    "\n",
    "You will create two variables, one for each sorcerer, where the sum of clashes won will be stored. Depending on which variable is greater at the end of the duel, you will show one of the following three results on the screen:\n",
    "* Gandalf wins\n",
    "* Saruman wins\n",
    "* Tie\n",
    "\n",
    "<img src=\"images/content_lightning_bolt_big.jpg\" width=\"400\">"
   ]
  },
  {
   "cell_type": "markdown",
   "metadata": {},
   "source": [
    "## Solution"
   ]
  },
  {
   "cell_type": "code",
   "execution_count": 12,
   "metadata": {
    "scrolled": false
   },
   "outputs": [
    {
     "name": "stdout",
     "output_type": "stream",
     "text": [
      "Gandalf won 6 times.\n",
      "Saruman won 4 times.\n",
      "Gandalf wins!\n"
     ]
    }
   ],
   "source": [
    "# Assign spell power lists to variables\n",
    "\n",
    "gandalf = [10, 11, 13, 30, 22, 11, 10, 33, 22, 22]\n",
    "saruman = [23, 66, 12, 43, 12, 10, 44, 23, 12, 17]\n",
    "\n",
    "gandalf_win = 0\n",
    "saruman_win = 0\n",
    "\n",
    "for i in range(len(gandalf)):\n",
    "    if gandalf[i] > saruman[i]:\n",
    "        gandalf_win += 1\n",
    "    elif gandalf[i] < saruman[i]:\n",
    "        saruman_win += 1\n",
    "    else:\n",
    "        gandalf_win += 0\n",
    "        saruman_win += 0\n",
    "\n",
    "print(\"Gandalf won\",gandalf_win, \"times.\")\n",
    "print(\"Saruman won\",saruman_win, \"times.\")\n",
    "\n",
    "if gandalf_win > saruman_win:\n",
    "    print(\"Gandalf wins!\")\n",
    "elif saruman_win > gandalf_win:\n",
    "    print(\"Saruman wins!\")\n",
    "else:\n",
    "    print(\"It's a draw...\")"
   ]
  },
  {
   "cell_type": "code",
   "execution_count": 9,
   "metadata": {},
   "outputs": [],
   "source": [
    "# Assign 0 to each variable that stores the victories\n",
    "\n"
   ]
  },
  {
   "cell_type": "code",
   "execution_count": 10,
   "metadata": {},
   "outputs": [],
   "source": [
    "# Execution of spell clashes\n",
    "\n",
    "            \n"
   ]
  },
  {
   "cell_type": "code",
   "execution_count": 3,
   "metadata": {},
   "outputs": [
    {
     "ename": "NameError",
     "evalue": "name 'gandalf_win' is not defined",
     "output_type": "error",
     "traceback": [
      "\u001b[0;31m---------------------------------------------------------------------------\u001b[0m",
      "\u001b[0;31mNameError\u001b[0m                                 Traceback (most recent call last)",
      "\u001b[0;32m<ipython-input-3-5aa3ac44f039>\u001b[0m in \u001b[0;36m<module>\u001b[0;34m\u001b[0m\n\u001b[1;32m      2\u001b[0m \u001b[0;31m# Print the result based on the winner.\u001b[0m\u001b[0;34m\u001b[0m\u001b[0;34m\u001b[0m\u001b[0;34m\u001b[0m\u001b[0m\n\u001b[1;32m      3\u001b[0m \u001b[0;34m\u001b[0m\u001b[0m\n\u001b[0;32m----> 4\u001b[0;31m \u001b[0mprint\u001b[0m\u001b[0;34m(\u001b[0m\u001b[0;34m\"Gandalf won \"\u001b[0m\u001b[0;34m,\u001b[0m\u001b[0mgandalf_win\u001b[0m\u001b[0;34m,\u001b[0m \u001b[0;34m\" times.\"\u001b[0m\u001b[0;34m)\u001b[0m\u001b[0;34m\u001b[0m\u001b[0;34m\u001b[0m\u001b[0m\n\u001b[0m\u001b[1;32m      5\u001b[0m \u001b[0mprint\u001b[0m\u001b[0;34m(\u001b[0m\u001b[0;34m\"Saruman won \"\u001b[0m\u001b[0;34m,\u001b[0m\u001b[0msaruman_win\u001b[0m\u001b[0;34m,\u001b[0m \u001b[0;34m\" times.\"\u001b[0m\u001b[0;34m)\u001b[0m\u001b[0;34m\u001b[0m\u001b[0;34m\u001b[0m\u001b[0m\n\u001b[1;32m      6\u001b[0m \u001b[0;34m\u001b[0m\u001b[0m\n",
      "\u001b[0;31mNameError\u001b[0m: name 'gandalf_win' is not defined"
     ]
    }
   ],
   "source": [
    "# We check who has won, do not forget the possibility of a draw.\n",
    "# Print the result based on the winner.\n",
    "\n"
   ]
  },
  {
   "cell_type": "markdown",
   "metadata": {},
   "source": [
    "## Goals\n",
    "\n",
    "1. Treatment of lists\n",
    "2. Use of **for loop**\n",
    "3. Use of conditional **if-elif-else**\n",
    "4. Use of the functions **range(), len()**\n",
    "5. Print"
   ]
  },
  {
   "cell_type": "markdown",
   "metadata": {},
   "source": [
    "## Bonus\n",
    "\n",
    "1. Spells now have a name and there is a dictionary that relates that name to a power.\n",
    "2. A sorcerer wins if he succeeds in winning 3 spell clashes in a row.\n",
    "3. Average of each of the spell lists.\n",
    "4. Standard deviation of each of the spell lists.\n",
    "\n",
    "```\n",
    "POWER = {\n",
    "    'Fireball': 50, \n",
    "    'Lightning bolt': 40, \n",
    "    'Magic arrow': 10, \n",
    "    'Black Tentacles': 25, \n",
    "    'Contagion': 45\n",
    "}\n",
    "\n",
    "gandalf = ['Fireball', 'Lightning bolt', 'Lightning bolt', 'Magic arrow', 'Fireball', \n",
    "           'Magic arrow', 'Lightning bolt', 'Fireball', 'Fireball', 'Fireball']\n",
    "saruman = ['Contagion', 'Contagion', 'Black Tentacles', 'Fireball', 'Black Tentacles', \n",
    "           'Lightning bolt', 'Magic arrow', 'Contagion', 'Magic arrow', 'Magic arrow']\n",
    "```\n",
    "\n",
    "Good luck!"
   ]
  },
  {
   "cell_type": "code",
   "execution_count": 1,
   "metadata": {},
   "outputs": [],
   "source": [
    "# 1. Spells now have a name and there is a dictionary that relates that name to a power.\n",
    "# variables\n",
    "\n",
    "POWER = {\n",
    "    'Fireball': 50, \n",
    "    'Lightning bolt': 40, \n",
    "    'Magic arrow': 10, \n",
    "    'Black Tentacles': 25, \n",
    "    'Contagion': 45\n",
    "}\n",
    "\n",
    "gandalf = ['Fireball', 'Lightning bolt', 'Lightning bolt', 'Magic arrow', 'Fireball', \n",
    "           'Magic arrow', 'Lightning bolt', 'Fireball', 'Magic arrow', 'Fireball']\n",
    "saruman = ['Contagion', 'Contagion', 'Black Tentacles', 'Fireball', 'Black Tentacles', \n",
    "           'Lightning bolt', 'Magic arrow', 'Contagion', 'Magic arrow', 'Magic arrow']"
   ]
  },
  {
   "cell_type": "code",
   "execution_count": 31,
   "metadata": {
    "scrolled": true
   },
   "outputs": [
    {
     "name": "stdout",
     "output_type": "stream",
     "text": [
      "[50, 40, 40, 10, 50, 10, 40, 50, 10, 50]\n",
      "[45, 45, 25, 50, 25, 40, 10, 45, 10, 10]\n",
      "['WIN', 'LOSE', 'WIN', 'LOSE', 'WIN', 'LOSE', 'WIN', 'WIN', 'DRAW', 'WIN']\n",
      "Nobody wins!\n",
      "Spell power average of Gandalf is 35.0\n",
      "Spell power average of Saruman is 30.5\n",
      "Gandalf standard deviation is 17.795130420052185\n",
      "Saruman standard deviation is 16.40629960309962\n"
     ]
    }
   ],
   "source": [
    "gandalf_power = []\n",
    "saruman_power = []\n",
    "# Assign spell power lists to variables\n",
    "for i in range(len(gandalf)):\n",
    "    gandalf_power.append(POWER[gandalf[i]])\n",
    "for i in range(len(saruman)):\n",
    "    saruman_power.append(POWER[saruman[i]])\n",
    "\n",
    "print(gandalf_power)\n",
    "print(saruman_power)\n",
    "\n",
    "gandalf_wins = []\n",
    "\n",
    "for i in range(len(gandalf_power)):\n",
    "    if gandalf_power[i] > saruman_power[i]:\n",
    "        gandalf_wins.append(\"WIN\")\n",
    "    elif gandalf_power[i] == saruman_power[i]:\n",
    "        gandalf_wins.append(\"DRAW\")\n",
    "    else:\n",
    "        gandalf_wins.append(\"LOSE\")\n",
    "        \n",
    "print(gandalf_wins)\n",
    "\n",
    "for i in range(len(gandalf_wins)-2):\n",
    "    if gandalf_wins[i] == gandalf_wins[i+1] == gandalf_wins[i+2]:\n",
    "        if gandalf_wins[i] == \"WIN\":\n",
    "            print(\"Gandalf wins!\")\n",
    "        elif gandalf_wins[i] == \"DRAW\":\n",
    "            print(\"It's a draw.\")\n",
    "        elif gandalf_wins[i] == \"LOSE\":\n",
    "            print(\"Saruman wins!\")\n",
    "    else:\n",
    "        if i == len(gandalf_wins)-3:\n",
    "            print(\"Nobody wins!\")\n",
    "        else:\n",
    "            pass\n",
    "        \n",
    "        \n",
    "spell_power_gandalf = sum(gandalf_power)/len(gandalf_power)\n",
    "spell_power_saruman = sum(saruman_power)/len(saruman_power)\n",
    "\n",
    "print(\"Spell power average of Gandalf is\", spell_power_gandalf)\n",
    "print(\"Spell power average of Saruman is\", spell_power_saruman)\n",
    "\n",
    "st_dev_gandalf = statistics.stdev(gandalf_power)\n",
    "st_dev_saruman = statistics.stdev(saruman_power)\n",
    "\n",
    "print(\"Gandalf standard deviation is\", st_dev_gandalf)\n",
    "print(\"Saruman standard deviation is\", st_dev_saruman)"
   ]
  },
  {
   "cell_type": "code",
   "execution_count": 26,
   "metadata": {},
   "outputs": [],
   "source": [
    "# 2. A sorcerer wins if he succeeds in winning 3 spell clashes in a row.\n",
    "\n",
    "\n",
    "# Execution of spell clashes\n",
    "\n",
    "\n",
    "\n",
    "# check for 3 wins in a row\n",
    "\n",
    "\n",
    "# check the winner"
   ]
  },
  {
   "cell_type": "code",
   "execution_count": 42,
   "metadata": {},
   "outputs": [],
   "source": [
    "# 3. Average of each of the spell lists.\n",
    "\n"
   ]
  },
  {
   "cell_type": "code",
   "execution_count": 43,
   "metadata": {},
   "outputs": [],
   "source": [
    "# 4. Standard deviation of each of the spell lists.\n",
    "\n"
   ]
  },
  {
   "cell_type": "code",
   "execution_count": null,
   "metadata": {},
   "outputs": [],
   "source": []
  },
  {
   "cell_type": "code",
   "execution_count": null,
   "metadata": {},
   "outputs": [],
   "source": []
  },
  {
   "cell_type": "code",
   "execution_count": null,
   "metadata": {},
   "outputs": [],
   "source": []
  }
 ],
 "metadata": {
  "kernelspec": {
   "display_name": "Python 3",
   "language": "python",
   "name": "python3"
  },
  "language_info": {
   "codemirror_mode": {
    "name": "ipython",
    "version": 3
   },
   "file_extension": ".py",
   "mimetype": "text/x-python",
   "name": "python",
   "nbconvert_exporter": "python",
   "pygments_lexer": "ipython3",
   "version": "3.7.6"
  }
 },
 "nbformat": 4,
 "nbformat_minor": 2
}
